{
 "cells": [
  {
   "cell_type": "markdown",
   "id": "17e4b7f1",
   "metadata": {},
   "source": [
    "# LAB | Audio Classification CNN\n",
    "\n",
    "## Introduction\n",
    "This notebook guides you through audio classification using a CNN model on the Kaggle audio dataset. You will:\n",
    "- Load and explore the dataset\n",
    "- Apply various preprocessing methods (MFCC, Mel spectrogram, Chromagram)\n",
    "- Build and train a CNN classifier on these features\n",
    "- Experiment with preprocessing parameters to improve results"
   ]
  },
  {
   "cell_type": "markdown",
   "id": "24bf7215",
   "metadata": {},
   "source": [
    "## Step 1: Setup & Dataset Loading"
   ]
  },
  {
   "cell_type": "code",
   "execution_count": 2,
   "id": "02792073",
   "metadata": {},
   "outputs": [],
   "source": [
    " #!pip install librosa "
   ]
  },
  {
   "cell_type": "code",
   "execution_count": 1,
   "id": "08e276e9",
   "metadata": {},
   "outputs": [],
   "source": [
    "import os\n",
    "import numpy as np\n",
    "import pandas as pd\n",
    "import librosa\n",
    "import librosa.display\n",
    "import matplotlib.pyplot as plt\n",
    "from sklearn.model_selection import train_test_split\n",
    "from tensorflow.keras.utils import to_categorical\n",
    "from tensorflow.keras.models import Sequential\n",
    "from tensorflow.keras.layers import Conv2D, MaxPooling2D, Flatten, Dense, Dropout\n",
    "import warnings\n",
    "warnings.filterwarnings('ignore')\n"
   ]
  },
  {
   "cell_type": "code",
   "execution_count": 2,
   "id": "ceeb0285",
   "metadata": {},
   "outputs": [
    {
     "name": "stdout",
     "output_type": "stream",
     "text": [
      "Path to dataset files: C:\\Users\\Amin\\.cache\\kagglehub\\datasets\\warcoder\\cats-vs-dogs-vs-birds-audio-classification\\versions\\1\n"
     ]
    }
   ],
   "source": [
    "import kagglehub\n",
    "\n",
    "# Download latest version\n",
    "path = kagglehub.dataset_download(\"warcoder/cats-vs-dogs-vs-birds-audio-classification\")\n",
    "\n",
    "print(\"Path to dataset files:\", path)"
   ]
  },
  {
   "cell_type": "code",
   "execution_count": 3,
   "id": "7b2f756d",
   "metadata": {},
   "outputs": [
    {
     "name": "stdout",
     "output_type": "stream",
     "text": [
      "['Animals']\n"
     ]
    }
   ],
   "source": [
    "files_in_dir = os.listdir(path)\n",
    "print(files_in_dir)"
   ]
  },
  {
   "cell_type": "code",
   "execution_count": 9,
   "id": "10dc94a4",
   "metadata": {},
   "outputs": [
    {
     "name": "stdout",
     "output_type": "stream",
     "text": [
      "                                            filepath label\n",
      "0  C:\\Users\\Amin\\.cache\\kagglehub\\datasets\\warcod...  bird\n",
      "1  C:\\Users\\Amin\\.cache\\kagglehub\\datasets\\warcod...  bird\n",
      "2  C:\\Users\\Amin\\.cache\\kagglehub\\datasets\\warcod...  bird\n",
      "3  C:\\Users\\Amin\\.cache\\kagglehub\\datasets\\warcod...  bird\n",
      "4  C:\\Users\\Amin\\.cache\\kagglehub\\datasets\\warcod...  bird\n"
     ]
    }
   ],
   "source": [
    "#TODO: create a dataframe\n",
    "data = []\n",
    "animals_path = os.path.join(path, 'Animals')\n",
    "for label in os.listdir(animals_path):\n",
    "    label_path = os.path.join(animals_path, label)\n",
    "    if os.path.isdir(label_path):\n",
    "        for file in os.listdir(label_path):\n",
    "            if file.endswith('.wav'):\n",
    "                data.append({'filepath': os.path.join(label_path, file), 'label': label})\n",
    "df = pd.DataFrame(data)\n",
    "print(df.head())"
   ]
  },
  {
   "cell_type": "code",
   "execution_count": 14,
   "id": "196872f9",
   "metadata": {},
   "outputs": [
    {
     "name": "stdout",
     "output_type": "stream",
     "text": [
      "Total audio files found: 610\n",
      "\n",
      "Label distribution:\n",
      "label\n",
      "dog     210\n",
      "cat     207\n",
      "bird    193\n",
      "Name: count, dtype: int64\n"
     ]
    }
   ],
   "source": [
    "print(f\"Total audio files found: {len(df)}\")\n",
    "print(\"\\nLabel distribution:\")\n",
    "print(df['label'].value_counts())"
   ]
  },
  {
   "cell_type": "markdown",
   "id": "c8a9982e",
   "metadata": {},
   "source": [
    "## Step 2: Audio Preprocessing Functions\n",
    "\n",
    "Define functions for feature extraction you will experiment with:\n",
    "\n",
    "- MFCC\n",
    "- Spectrogram\n",
    "- Chromogram"
   ]
  },
  {
   "cell_type": "code",
   "execution_count": 20,
   "id": "f6d92f74",
   "metadata": {},
   "outputs": [],
   "source": [
    "##TODO: Your_Code_Here\n",
    "# MFCC extraction\n",
    "def extract_mfcc(file_path, n_mfcc=40, max_len=174):\n",
    "    audio, sr = librosa.load(file_path, sr=None)\n",
    "    mfcc = librosa.feature.mfcc(y=audio, sr=sr, n_mfcc=n_mfcc)\n",
    "    if mfcc.shape[1] < max_len:\n",
    "        pad_width = max_len - mfcc.shape[1]\n",
    "        mfcc = np.pad(mfcc, pad_width=((0,0),(0,pad_width)), mode='constant')\n",
    "    else:\n",
    "        mfcc = mfcc[:, :max_len]\n",
    "    return mfcc"
   ]
  },
  {
   "cell_type": "code",
   "execution_count": 23,
   "id": "e36ea78e",
   "metadata": {},
   "outputs": [],
   "source": [
    "# Mel Spectrogram extraction\n",
    "def extract_mel(file_path, n_mels=128, max_len=174):\n",
    "    audio, sr = librosa.load(file_path, sr=None)\n",
    "    mel = librosa.feature.melspectrogram(y=audio, sr=sr, n_mels=n_mels)\n",
    "    mel_db = librosa.power_to_db(mel, ref=np.max)\n",
    "    if mel_db.shape[1] < max_len:\n",
    "        pad_width = max_len - mel_db.shape[1]\n",
    "        mel_db = np.pad(mel_db, pad_width=((0,0),(0,pad_width)), mode='constant')\n",
    "    else:\n",
    "        mel_db = mel_db[:, :max_len]\n",
    "    return mel_db"
   ]
  },
  {
   "cell_type": "code",
   "execution_count": 28,
   "id": "706f2c05",
   "metadata": {},
   "outputs": [],
   "source": [
    "# Chromagram extraction\n",
    "def extract_chroma(file_path, max_len=174):\n",
    "    audio, sr = librosa.load(file_path, sr=None)\n",
    "    chroma = librosa.feature.chroma_stft(y=audio, sr=sr)\n",
    "    if chroma.shape[1] < max_len:\n",
    "        pad_width = max_len - chroma.shape[1]\n",
    "        chroma = np.pad(chroma, pad_width=((0,0),(0,pad_width)), mode='constant')\n",
    "    else:\n",
    "        chroma = chroma[:, :max_len]\n",
    "    return chroma"
   ]
  },
  {
   "cell_type": "markdown",
   "id": "53127c3f",
   "metadata": {},
   "source": [
    "## Step 3: Visualize Audio Features\n",
    "\n",
    "Visualize extracted features for a sample audio file:"
   ]
  },
  {
   "cell_type": "code",
   "execution_count": 21,
   "id": "147235b1",
   "metadata": {},
   "outputs": [
    {
     "data": {
      "image/png": "[encoded data removed]",
      "text/plain": [
       "<Figure size 1000x400 with 2 Axes>"
      ]
     },
     "metadata": {},
     "output_type": "display_data"
    }
   ],
   "source": [
    "##TODO: Your_Code_Here\n",
    "sample_file = df['filepath'].iloc[0]\n",
    "mfcc = extract_mfcc(sample_file)\n",
    "\n",
    "plt.figure(figsize=(10, 4))\n",
    "librosa.display.specshow(mfcc, x_axis='time')\n",
    "plt.colorbar()\n",
    "plt.title(f\"MFCC - {df['label'].iloc[0]}\")\n",
    "plt.tight_layout()\n",
    "plt.show()"
   ]
  },
  {
   "cell_type": "code",
   "execution_count": null,
   "id": "4566baa6",
   "metadata": {},
   "outputs": [
    {
     "data": {
      "image/png": "[encoded data removed]",
      "text/plain": [
       "<Figure size 1000x400 with 2 Axes>"
      ]
     },
     "metadata": {},
     "output_type": "display_data"
    }
   ],
   "source": [
    "sample_file = df['filepath'].iloc[0]\n",
    "mel = extract_mel(sample_file)\n",
    "\n",
    "plt.figure(figsize=(10, 4))\n",
    "librosa.display.specshow(mel, x_axis='time')\n",
    "plt.colorbar()\n",
    "plt.title(f\"MEL - {df['label'].iloc[0]}\")\n",
    "plt.tight_layout()\n",
    "plt.show()"
   ]
  },
  {
   "cell_type": "code",
   "execution_count": 32,
   "id": "dab1dcef",
   "metadata": {},
   "outputs": [
    {
     "data": {
      "image/png": "[encoded data removed]",
      "text/plain": [
       "<Figure size 1000x400 with 2 Axes>"
      ]
     },
     "metadata": {},
     "output_type": "display_data"
    }
   ],
   "source": [
    "sample_file = df['filepath'].iloc[0]\n",
    "chroma = extract_chroma(sample_file)\n",
    "\n",
    "plt.figure(figsize=(10, 4))\n",
    "librosa.display.specshow(chroma, x_axis='time')\n",
    "plt.colorbar()\n",
    "plt.title(f\"Chroma - {df['label'].iloc[0]}\")\n",
    "plt.tight_layout()\n",
    "plt.show()"
   ]
  },
  {
   "cell_type": "markdown",
   "id": "16531f50",
   "metadata": {},
   "source": [
    "## Step 4: Prepare Data for CNN\n",
    "\n",
    "Extract features for all files and prepare train/test sets:"
   ]
  },
  {
   "cell_type": "code",
   "execution_count": 33,
   "id": "74a4012d",
   "metadata": {},
   "outputs": [
    {
     "name": "stdout",
     "output_type": "stream",
     "text": [
      "Train shape: (488, 40, 174, 1) (488, 3)\n",
      "Test shape: (122, 40, 174, 1) (122, 3)\n"
     ]
    }
   ],
   "source": [
    "##TODO: Your_Code_Here\n",
    "# Choose feature extractor: extract_mfcc, extract_mel, or extract_chroma\n",
    "feature_extractor = extract_mfcc \n",
    "\n",
    "X = []\n",
    "y = []\n",
    "\n",
    "for idx, row in df.iterrows():\n",
    "    features = feature_extractor(row['filepath'])\n",
    "    X.append(features)\n",
    "    y.append(row['label'])\n",
    "\n",
    "\n",
    "X = np.array(X)\n",
    "X = X[..., np.newaxis]  # Add channel dimension for CNN\n",
    "\n",
    "# Encode labels\n",
    "labels = sorted(df['label'].unique())\n",
    "label_to_idx = {label: idx for idx, label in enumerate(labels)}\n",
    "y = np.array([label_to_idx[label] for label in y])\n",
    "y = to_categorical(y, num_classes=len(labels))\n",
    "\n",
    "# Train/test split\n",
    "X_train, X_test, y_train, y_test = train_test_split(X, y, test_size=0.2, random_state=42, stratify=y)\n",
    "print(\"Train shape:\", X_train.shape, y_train.shape)\n",
    "print(\"Test shape:\", X_test.shape, y_test.shape)"
   ]
  },
  {
   "cell_type": "code",
   "execution_count": null,
   "id": "01230bd3",
   "metadata": {},
   "outputs": [],
   "source": [
    "# Feature extractor: extract_mel\n",
    "feature_extractor = extract_mel\n",
    "\n",
    "X = []\n",
    "y = []\n",
    "\n",
    "for idx, row in df.iterrows():\n",
    "    features = feature_extractor(row['filepath'])\n",
    "    X.append(features)\n",
    "    y.append(row['label'])\n",
    "\n",
    "\n",
    "X = np.array(X)\n",
    "X = X[..., np.newaxis]  # Add channel dimension for CNN\n",
    "\n",
    "# Encode labels\n",
    "labels = sorted(df['label'].unique())\n",
    "label_to_idx = {label: idx for idx, label in enumerate(labels)}\n",
    "y = np.array([label_to_idx[label] for label in y])\n",
    "y = to_categorical(y, num_classes=len(labels))\n",
    "\n",
    "# Train/test split\n",
    "X_train, X_test, y_train, y_test = train_test_split(X, y, test_size=0.2, random_state=42, stratify=y)\n",
    "print(\"Train shape:\", X_train.shape, y_train.shape)\n",
    "print(\"Test shape:\", X_test.shape, y_test.shape)"
   ]
  },
  {
   "cell_type": "markdown",
   "id": "5363a3f5",
   "metadata": {},
   "source": [
    "## Step 5: Define CNN Model"
   ]
  },
  {
   "cell_type": "code",
   "execution_count": 34,
   "id": "719e3601",
   "metadata": {},
   "outputs": [
    {
     "data": {
      "text/html": [
       "<pre style=\"white-space:pre;overflow-x:auto;line-height:normal;font-family:Menlo,'DejaVu Sans Mono',consolas,'Courier New',monospace\"><span style=\"font-weight: bold\">Model: \"sequential\"</span>\n",
       "</pre>\n"
      ],
      "text/plain": [
       "\u001b[1mModel: \"sequential\"\u001b[0m\n"
      ]
     },
     "metadata": {},
     "output_type": "display_data"
    },
    {
     "data": {
      "text/html": [
       "<pre style=\"white-space:pre;overflow-x:auto;line-height:normal;font-family:Menlo,'DejaVu Sans Mono',consolas,'Courier New',monospace\">┏━━━━━━━━━━━━━━━━━━━━━━━━━━━━━━━━━┳━━━━━━━━━━━━━━━━━━━━━━━━┳━━━━━━━━━━━━━━━┓\n",
       "┃<span style=\"font-weight: bold\"> Layer (type)                    </span>┃<span style=\"font-weight: bold\"> Output Shape           </span>┃<span style=\"font-weight: bold\">       Param # </span>┃\n",
       "┡━━━━━━━━━━━━━━━━━━━━━━━━━━━━━━━━━╇━━━━━━━━━━━━━━━━━━━━━━━━╇━━━━━━━━━━━━━━━┩\n",
       "│ conv2d (<span style=\"color: #0087ff; text-decoration-color: #0087ff\">Conv2D</span>)                 │ (<span style=\"color: #00d7ff; text-decoration-color: #00d7ff\">None</span>, <span style=\"color: #00af00; text-decoration-color: #00af00\">38</span>, <span style=\"color: #00af00; text-decoration-color: #00af00\">172</span>, <span style=\"color: #00af00; text-decoration-color: #00af00\">32</span>)    │           <span style=\"color: #00af00; text-decoration-color: #00af00\">320</span> │\n",
       "├─────────────────────────────────┼────────────────────────┼───────────────┤\n",
       "│ max_pooling2d (<span style=\"color: #0087ff; text-decoration-color: #0087ff\">MaxPooling2D</span>)    │ (<span style=\"color: #00d7ff; text-decoration-color: #00d7ff\">None</span>, <span style=\"color: #00af00; text-decoration-color: #00af00\">19</span>, <span style=\"color: #00af00; text-decoration-color: #00af00\">86</span>, <span style=\"color: #00af00; text-decoration-color: #00af00\">32</span>)     │             <span style=\"color: #00af00; text-decoration-color: #00af00\">0</span> │\n",
       "├─────────────────────────────────┼────────────────────────┼───────────────┤\n",
       "│ dropout (<span style=\"color: #0087ff; text-decoration-color: #0087ff\">Dropout</span>)               │ (<span style=\"color: #00d7ff; text-decoration-color: #00d7ff\">None</span>, <span style=\"color: #00af00; text-decoration-color: #00af00\">19</span>, <span style=\"color: #00af00; text-decoration-color: #00af00\">86</span>, <span style=\"color: #00af00; text-decoration-color: #00af00\">32</span>)     │             <span style=\"color: #00af00; text-decoration-color: #00af00\">0</span> │\n",
       "├─────────────────────────────────┼────────────────────────┼───────────────┤\n",
       "│ conv2d_1 (<span style=\"color: #0087ff; text-decoration-color: #0087ff\">Conv2D</span>)               │ (<span style=\"color: #00d7ff; text-decoration-color: #00d7ff\">None</span>, <span style=\"color: #00af00; text-decoration-color: #00af00\">17</span>, <span style=\"color: #00af00; text-decoration-color: #00af00\">84</span>, <span style=\"color: #00af00; text-decoration-color: #00af00\">64</span>)     │        <span style=\"color: #00af00; text-decoration-color: #00af00\">18,496</span> │\n",
       "├─────────────────────────────────┼────────────────────────┼───────────────┤\n",
       "│ max_pooling2d_1 (<span style=\"color: #0087ff; text-decoration-color: #0087ff\">MaxPooling2D</span>)  │ (<span style=\"color: #00d7ff; text-decoration-color: #00d7ff\">None</span>, <span style=\"color: #00af00; text-decoration-color: #00af00\">8</span>, <span style=\"color: #00af00; text-decoration-color: #00af00\">42</span>, <span style=\"color: #00af00; text-decoration-color: #00af00\">64</span>)      │             <span style=\"color: #00af00; text-decoration-color: #00af00\">0</span> │\n",
       "├─────────────────────────────────┼────────────────────────┼───────────────┤\n",
       "│ dropout_1 (<span style=\"color: #0087ff; text-decoration-color: #0087ff\">Dropout</span>)             │ (<span style=\"color: #00d7ff; text-decoration-color: #00d7ff\">None</span>, <span style=\"color: #00af00; text-decoration-color: #00af00\">8</span>, <span style=\"color: #00af00; text-decoration-color: #00af00\">42</span>, <span style=\"color: #00af00; text-decoration-color: #00af00\">64</span>)      │             <span style=\"color: #00af00; text-decoration-color: #00af00\">0</span> │\n",
       "├─────────────────────────────────┼────────────────────────┼───────────────┤\n",
       "│ flatten (<span style=\"color: #0087ff; text-decoration-color: #0087ff\">Flatten</span>)               │ (<span style=\"color: #00d7ff; text-decoration-color: #00d7ff\">None</span>, <span style=\"color: #00af00; text-decoration-color: #00af00\">21504</span>)          │             <span style=\"color: #00af00; text-decoration-color: #00af00\">0</span> │\n",
       "├─────────────────────────────────┼────────────────────────┼───────────────┤\n",
       "│ dense (<span style=\"color: #0087ff; text-decoration-color: #0087ff\">Dense</span>)                   │ (<span style=\"color: #00d7ff; text-decoration-color: #00d7ff\">None</span>, <span style=\"color: #00af00; text-decoration-color: #00af00\">128</span>)            │     <span style=\"color: #00af00; text-decoration-color: #00af00\">2,752,640</span> │\n",
       "├─────────────────────────────────┼────────────────────────┼───────────────┤\n",
       "│ dropout_2 (<span style=\"color: #0087ff; text-decoration-color: #0087ff\">Dropout</span>)             │ (<span style=\"color: #00d7ff; text-decoration-color: #00d7ff\">None</span>, <span style=\"color: #00af00; text-decoration-color: #00af00\">128</span>)            │             <span style=\"color: #00af00; text-decoration-color: #00af00\">0</span> │\n",
       "├─────────────────────────────────┼────────────────────────┼───────────────┤\n",
       "│ dense_1 (<span style=\"color: #0087ff; text-decoration-color: #0087ff\">Dense</span>)                 │ (<span style=\"color: #00d7ff; text-decoration-color: #00d7ff\">None</span>, <span style=\"color: #00af00; text-decoration-color: #00af00\">3</span>)              │           <span style=\"color: #00af00; text-decoration-color: #00af00\">387</span> │\n",
       "└─────────────────────────────────┴────────────────────────┴───────────────┘\n",
       "</pre>\n"
      ],
      "text/plain": [
       "┏━━━━━━━━━━━━━━━━━━━━━━━━━━━━━━━━━┳━━━━━━━━━━━━━━━━━━━━━━━━┳━━━━━━━━━━━━━━━┓\n",
       "┃\u001b[1m \u001b[0m\u001b[1mLayer (type)                   \u001b[0m\u001b[1m \u001b[0m┃\u001b[1m \u001b[0m\u001b[1mOutput Shape          \u001b[0m\u001b[1m \u001b[0m┃\u001b[1m \u001b[0m\u001b[1m      Param #\u001b[0m\u001b[1m \u001b[0m┃\n",
       "┡━━━━━━━━━━━━━━━━━━━━━━━━━━━━━━━━━╇━━━━━━━━━━━━━━━━━━━━━━━━╇━━━━━━━━━━━━━━━┩\n",
       "│ conv2d (\u001b[38;5;33mConv2D\u001b[0m)                 │ (\u001b[38;5;45mNone\u001b[0m, \u001b[38;5;34m38\u001b[0m, \u001b[38;5;34m172\u001b[0m, \u001b[38;5;34m32\u001b[0m)    │           \u001b[38;5;34m320\u001b[0m │\n",
       "├─────────────────────────────────┼────────────────────────┼───────────────┤\n",
       "│ max_pooling2d (\u001b[38;5;33mMaxPooling2D\u001b[0m)    │ (\u001b[38;5;45mNone\u001b[0m, \u001b[38;5;34m19\u001b[0m, \u001b[38;5;34m86\u001b[0m, \u001b[38;5;34m32\u001b[0m)     │             \u001b[38;5;34m0\u001b[0m │\n",
       "├─────────────────────────────────┼────────────────────────┼───────────────┤\n",
       "│ dropout (\u001b[38;5;33mDropout\u001b[0m)               │ (\u001b[38;5;45mNone\u001b[0m, \u001b[38;5;34m19\u001b[0m, \u001b[38;5;34m86\u001b[0m, \u001b[38;5;34m32\u001b[0m)     │             \u001b[38;5;34m0\u001b[0m │\n",
       "├─────────────────────────────────┼────────────────────────┼───────────────┤\n",
       "│ conv2d_1 (\u001b[38;5;33mConv2D\u001b[0m)               │ (\u001b[38;5;45mNone\u001b[0m, \u001b[38;5;34m17\u001b[0m, \u001b[38;5;34m84\u001b[0m, \u001b[38;5;34m64\u001b[0m)     │        \u001b[38;5;34m18,496\u001b[0m │\n",
       "├─────────────────────────────────┼────────────────────────┼───────────────┤\n",
       "│ max_pooling2d_1 (\u001b[38;5;33mMaxPooling2D\u001b[0m)  │ (\u001b[38;5;45mNone\u001b[0m, \u001b[38;5;34m8\u001b[0m, \u001b[38;5;34m42\u001b[0m, \u001b[38;5;34m64\u001b[0m)      │             \u001b[38;5;34m0\u001b[0m │\n",
       "├─────────────────────────────────┼────────────────────────┼───────────────┤\n",
       "│ dropout_1 (\u001b[38;5;33mDropout\u001b[0m)             │ (\u001b[38;5;45mNone\u001b[0m, \u001b[38;5;34m8\u001b[0m, \u001b[38;5;34m42\u001b[0m, \u001b[38;5;34m64\u001b[0m)      │             \u001b[38;5;34m0\u001b[0m │\n",
       "├─────────────────────────────────┼────────────────────────┼───────────────┤\n",
       "│ flatten (\u001b[38;5;33mFlatten\u001b[0m)               │ (\u001b[38;5;45mNone\u001b[0m, \u001b[38;5;34m21504\u001b[0m)          │             \u001b[38;5;34m0\u001b[0m │\n",
       "├─────────────────────────────────┼────────────────────────┼───────────────┤\n",
       "│ dense (\u001b[38;5;33mDense\u001b[0m)                   │ (\u001b[38;5;45mNone\u001b[0m, \u001b[38;5;34m128\u001b[0m)            │     \u001b[38;5;34m2,752,640\u001b[0m │\n",
       "├─────────────────────────────────┼────────────────────────┼───────────────┤\n",
       "│ dropout_2 (\u001b[38;5;33mDropout\u001b[0m)             │ (\u001b[38;5;45mNone\u001b[0m, \u001b[38;5;34m128\u001b[0m)            │             \u001b[38;5;34m0\u001b[0m │\n",
       "├─────────────────────────────────┼────────────────────────┼───────────────┤\n",
       "│ dense_1 (\u001b[38;5;33mDense\u001b[0m)                 │ (\u001b[38;5;45mNone\u001b[0m, \u001b[38;5;34m3\u001b[0m)              │           \u001b[38;5;34m387\u001b[0m │\n",
       "└─────────────────────────────────┴────────────────────────┴───────────────┘\n"
      ]
     },
     "metadata": {},
     "output_type": "display_data"
    },
    {
     "data": {
      "text/html": [
       "<pre style=\"white-space:pre;overflow-x:auto;line-height:normal;font-family:Menlo,'DejaVu Sans Mono',consolas,'Courier New',monospace\"><span style=\"font-weight: bold\"> Total params: </span><span style=\"color: #00af00; text-decoration-color: #00af00\">2,771,843</span> (10.57 MB)\n",
       "</pre>\n"
      ],
      "text/plain": [
       "\u001b[1m Total params: \u001b[0m\u001b[38;5;34m2,771,843\u001b[0m (10.57 MB)\n"
      ]
     },
     "metadata": {},
     "output_type": "display_data"
    },
    {
     "data": {
      "text/html": [
       "<pre style=\"white-space:pre;overflow-x:auto;line-height:normal;font-family:Menlo,'DejaVu Sans Mono',consolas,'Courier New',monospace\"><span style=\"font-weight: bold\"> Trainable params: </span><span style=\"color: #00af00; text-decoration-color: #00af00\">2,771,843</span> (10.57 MB)\n",
       "</pre>\n"
      ],
      "text/plain": [
       "\u001b[1m Trainable params: \u001b[0m\u001b[38;5;34m2,771,843\u001b[0m (10.57 MB)\n"
      ]
     },
     "metadata": {},
     "output_type": "display_data"
    },
    {
     "data": {
      "text/html": [
       "<pre style=\"white-space:pre;overflow-x:auto;line-height:normal;font-family:Menlo,'DejaVu Sans Mono',consolas,'Courier New',monospace\"><span style=\"font-weight: bold\"> Non-trainable params: </span><span style=\"color: #00af00; text-decoration-color: #00af00\">0</span> (0.00 B)\n",
       "</pre>\n"
      ],
      "text/plain": [
       "\u001b[1m Non-trainable params: \u001b[0m\u001b[38;5;34m0\u001b[0m (0.00 B)\n"
      ]
     },
     "metadata": {},
     "output_type": "display_data"
    }
   ],
   "source": [
    "##TODO: Your_Code_Here\n",
    "\n",
    "#Simple CNN model for audio classification\n",
    "input_shape = X_train.shape[1:]  \n",
    "\n",
    "model = Sequential([\n",
    "    Conv2D(32, (3, 3), activation='relu', input_shape=input_shape),\n",
    "    MaxPooling2D((2, 2)),\n",
    "    Dropout(0.3),\n",
    "    \n",
    "    Conv2D(64, (3, 3), activation='relu'),\n",
    "    MaxPooling2D((2, 2)),\n",
    "    Dropout(0.3),\n",
    "    \n",
    "    Flatten(),\n",
    "    Dense(128, activation='relu'),\n",
    "    Dropout(0.3),\n",
    "    Dense(y_train.shape[1], activation='softmax')  # Number of classes\n",
    "])\n",
    "\n",
    "model.compile(optimizer='adam', loss='categorical_crossentropy', metrics=['accuracy'])\n",
    "model.summary()"
   ]
  },
  {
   "cell_type": "markdown",
   "id": "cbfaf6e7",
   "metadata": {},
   "source": [
    "## Step 6: Train and Evaluate"
   ]
  },
  {
   "cell_type": "code",
   "execution_count": 35,
   "id": "63f3e2d5",
   "metadata": {},
   "outputs": [
    {
     "name": "stdout",
     "output_type": "stream",
     "text": [
      "Epoch 1/20\n",
      "\u001b[1m16/16\u001b[0m \u001b[32m━━━━━━━━━━━━━━━━━━━━\u001b[0m\u001b[37m\u001b[0m \u001b[1m3s\u001b[0m 106ms/step - accuracy: 0.3422 - loss: 8.9983 - val_accuracy: 0.3770 - val_loss: 1.1019\n",
      "Epoch 2/20\n",
      "\u001b[1m16/16\u001b[0m \u001b[32m━━━━━━━━━━━━━━━━━━━━\u001b[0m\u001b[37m\u001b[0m \u001b[1m1s\u001b[0m 76ms/step - accuracy: 0.3443 - loss: 1.2005 - val_accuracy: 0.4180 - val_loss: 1.0789\n",
      "Epoch 3/20\n",
      "\u001b[1m16/16\u001b[0m \u001b[32m━━━━━━━━━━━━━━━━━━━━\u001b[0m\u001b[37m\u001b[0m \u001b[1m1s\u001b[0m 75ms/step - accuracy: 0.3770 - loss: 1.0917 - val_accuracy: 0.4918 - val_loss: 1.0848\n",
      "Epoch 4/20\n",
      "\u001b[1m16/16\u001b[0m \u001b[32m━━━━━━━━━━━━━━━━━━━━\u001b[0m\u001b[37m\u001b[0m \u001b[1m1s\u001b[0m 65ms/step - accuracy: 0.3668 - loss: 1.0972 - val_accuracy: 0.4754 - val_loss: 1.0861\n",
      "Epoch 5/20\n",
      "\u001b[1m16/16\u001b[0m \u001b[32m━━━━━━━━━━━━━━━━━━━━\u001b[0m\u001b[37m\u001b[0m \u001b[1m1s\u001b[0m 79ms/step - accuracy: 0.3955 - loss: 1.0812 - val_accuracy: 0.4180 - val_loss: 1.0859\n",
      "Epoch 6/20\n",
      "\u001b[1m16/16\u001b[0m \u001b[32m━━━━━━━━━━━━━━━━━━━━\u001b[0m\u001b[37m\u001b[0m \u001b[1m1s\u001b[0m 80ms/step - accuracy: 0.4078 - loss: 1.0732 - val_accuracy: 0.4508 - val_loss: 1.0814\n",
      "Epoch 7/20\n",
      "\u001b[1m16/16\u001b[0m \u001b[32m━━━━━━━━━━━━━━━━━━━━\u001b[0m\u001b[37m\u001b[0m \u001b[1m1s\u001b[0m 75ms/step - accuracy: 0.4180 - loss: 1.0589 - val_accuracy: 0.5164 - val_loss: 1.0656\n",
      "Epoch 8/20\n",
      "\u001b[1m16/16\u001b[0m \u001b[32m━━━━━━━━━━━━━━━━━━━━\u001b[0m\u001b[37m\u001b[0m \u001b[1m1s\u001b[0m 77ms/step - accuracy: 0.4816 - loss: 1.0307 - val_accuracy: 0.5984 - val_loss: 0.9908\n",
      "Epoch 9/20\n",
      "\u001b[1m16/16\u001b[0m \u001b[32m━━━━━━━━━━━━━━━━━━━━\u001b[0m\u001b[37m\u001b[0m \u001b[1m1s\u001b[0m 68ms/step - accuracy: 0.5266 - loss: 0.9744 - val_accuracy: 0.6803 - val_loss: 0.8943\n",
      "Epoch 10/20\n",
      "\u001b[1m16/16\u001b[0m \u001b[32m━━━━━━━━━━━━━━━━━━━━\u001b[0m\u001b[37m\u001b[0m \u001b[1m1s\u001b[0m 77ms/step - accuracy: 0.6086 - loss: 0.8317 - val_accuracy: 0.7787 - val_loss: 0.7230\n",
      "Epoch 11/20\n",
      "\u001b[1m16/16\u001b[0m \u001b[32m━━━━━━━━━━━━━━━━━━━━\u001b[0m\u001b[37m\u001b[0m \u001b[1m1s\u001b[0m 73ms/step - accuracy: 0.6434 - loss: 0.7601 - val_accuracy: 0.8197 - val_loss: 0.6627\n",
      "Epoch 12/20\n",
      "\u001b[1m16/16\u001b[0m \u001b[32m━━━━━━━━━━━━━━━━━━━━\u001b[0m\u001b[37m\u001b[0m \u001b[1m1s\u001b[0m 67ms/step - accuracy: 0.7111 - loss: 0.6551 - val_accuracy: 0.8361 - val_loss: 0.5409\n",
      "Epoch 13/20\n",
      "\u001b[1m16/16\u001b[0m \u001b[32m━━━━━━━━━━━━━━━━━━━━\u001b[0m\u001b[37m\u001b[0m \u001b[1m1s\u001b[0m 67ms/step - accuracy: 0.7623 - loss: 0.6099 - val_accuracy: 0.8607 - val_loss: 0.5492\n",
      "Epoch 14/20\n",
      "\u001b[1m16/16\u001b[0m \u001b[32m━━━━━━━━━━━━━━━━━━━━\u001b[0m\u001b[37m\u001b[0m \u001b[1m1s\u001b[0m 69ms/step - accuracy: 0.7705 - loss: 0.5548 - val_accuracy: 0.8525 - val_loss: 0.4978\n",
      "Epoch 15/20\n",
      "\u001b[1m16/16\u001b[0m \u001b[32m━━━━━━━━━━━━━━━━━━━━\u001b[0m\u001b[37m\u001b[0m \u001b[1m1s\u001b[0m 75ms/step - accuracy: 0.7889 - loss: 0.5465 - val_accuracy: 0.8852 - val_loss: 0.4513\n",
      "Epoch 16/20\n",
      "\u001b[1m16/16\u001b[0m \u001b[32m━━━━━━━━━━━━━━━━━━━━\u001b[0m\u001b[37m\u001b[0m \u001b[1m1s\u001b[0m 75ms/step - accuracy: 0.8484 - loss: 0.4357 - val_accuracy: 0.8525 - val_loss: 0.4339\n",
      "Epoch 17/20\n",
      "\u001b[1m16/16\u001b[0m \u001b[32m━━━━━━━━━━━━━━━━━━━━\u001b[0m\u001b[37m\u001b[0m \u001b[1m1s\u001b[0m 74ms/step - accuracy: 0.8586 - loss: 0.3836 - val_accuracy: 0.8852 - val_loss: 0.4130\n",
      "Epoch 18/20\n",
      "\u001b[1m16/16\u001b[0m \u001b[32m━━━━━━━━━━━━━━━━━━━━\u001b[0m\u001b[37m\u001b[0m \u001b[1m1s\u001b[0m 73ms/step - accuracy: 0.8115 - loss: 0.4066 - val_accuracy: 0.8607 - val_loss: 0.4565\n",
      "Epoch 19/20\n",
      "\u001b[1m16/16\u001b[0m \u001b[32m━━━━━━━━━━━━━━━━━━━━\u001b[0m\u001b[37m\u001b[0m \u001b[1m1s\u001b[0m 78ms/step - accuracy: 0.8750 - loss: 0.3560 - val_accuracy: 0.9098 - val_loss: 0.4041\n",
      "Epoch 20/20\n",
      "\u001b[1m16/16\u001b[0m \u001b[32m━━━━━━━━━━━━━━━━━━━━\u001b[0m\u001b[37m\u001b[0m \u001b[1m1s\u001b[0m 77ms/step - accuracy: 0.8791 - loss: 0.3390 - val_accuracy: 0.8934 - val_loss: 0.3925\n",
      "4/4 - 0s - 18ms/step - accuracy: 0.8934 - loss: 0.3925\n",
      "Test accuracy: 0.8934\n"
     ]
    }
   ],
   "source": [
    "##TODO: Your_Code_Here\n",
    "\n",
    "# Train the CNN model\n",
    "history = model.fit(\n",
    "    X_train, y_train,\n",
    "    epochs=20,\n",
    "    batch_size=32,\n",
    "    validation_data=(X_test, y_test)\n",
    ")\n",
    "\n",
    "# Evaluate the model\n",
    "test_loss, test_acc = model.evaluate(X_test, y_test, verbose=2)\n",
    "print(f\"Test accuracy: {test_acc:.4f}\")"
   ]
  },
  {
   "cell_type": "markdown",
   "id": "8ef8f2de",
   "metadata": {},
   "source": [
    "## Step 7: Experimentation\n",
    "\n",
    "- Try using Mel Spectrogram and Chromagram as features instead of MFCC by changing the `feature_extractor` function in the data preparation.\n",
    "- Modify parameters like `n_mfcc`, `n_mels`, `max_len`.\n",
    "- Tune CNN architecture (add layers, change filters).\n",
    "- Compare results and report observations.\n"
   ]
  },
  {
   "cell_type": "code",
   "execution_count": null,
   "id": "03303447",
   "metadata": {},
   "outputs": [
    {
     "name": "stdout",
     "output_type": "stream",
     "text": [
      "\n",
      "--- Training with MFCC features ---\n",
      "MFCC Test accuracy: 0.9262\n",
      "\n",
      "--- Training with Mel Spectrogram features ---\n",
      "Mel Spectrogram Test accuracy: 0.8934\n",
      "\n",
      "--- Training with Chromagram features ---\n",
      "Chromagram Test accuracy: 0.5328\n",
      "\n",
      "Summary of test accuracies:\n",
      "MFCC: 0.9262\n",
      "Mel Spectrogram: 0.8934\n",
      "Chromagram: 0.5328\n"
     ]
    }
   ],
   "source": [
    "#Expremineting with each feature extractor and comparing them\n",
    "extractors = [\n",
    "    (\"MFCC\", extract_mfcc),\n",
    "    (\"Mel Spectrogram\", extract_mel),\n",
    "    (\"Chromagram\", extract_chroma)\n",
    "]\n",
    "\n",
    "results = {}\n",
    "\n",
    "for name, feature_extractor in extractors:\n",
    "    print(f\"\\n--- Training with {name} features ---\")\n",
    "    X = []\n",
    "    y = []\n",
    "    for idx, row in df.iterrows():\n",
    "        features = feature_extractor(row['filepath'])\n",
    "        X.append(features)\n",
    "        y.append(row['label'])\n",
    "    X = np.array(X)\n",
    "    X = X[..., np.newaxis]\n",
    "    labels = sorted(df['label'].unique())\n",
    "    label_to_idx = {label: idx for idx, label in enumerate(labels)}\n",
    "    y = np.array([label_to_idx[label] for label in y])\n",
    "    y = to_categorical(y, num_classes=len(labels))\n",
    "    X_train, X_test, y_train, y_test = train_test_split(X, y, test_size=0.2, random_state=42, stratify=y)\n",
    "    \n",
    "    input_shape = X_train.shape[1:]\n",
    "    model = Sequential([\n",
    "        Conv2D(32, (3, 3), activation='relu', input_shape=input_shape),\n",
    "        MaxPooling2D((2, 2)),\n",
    "        Dropout(0.3),\n",
    "        Conv2D(64, (3, 3), activation='relu'),\n",
    "        MaxPooling2D((2, 2)),\n",
    "        Dropout(0.3),\n",
    "        Flatten(),\n",
    "        Dense(128, activation='relu'),\n",
    "        Dropout(0.3),\n",
    "        Dense(y_train.shape[1], activation='softmax')\n",
    "    ])\n",
    "    model.compile(optimizer='adam', loss='categorical_crossentropy', metrics=['accuracy'])\n",
    "    history = model.fit(\n",
    "        X_train, y_train,\n",
    "        epochs=20,\n",
    "        batch_size=32,\n",
    "        validation_data=(X_test, y_test),\n",
    "        verbose=0\n",
    "    )\n",
    "    test_loss, test_acc = model.evaluate(X_test, y_test, verbose=0)\n",
    "    print(f\"{name} Test accuracy: {test_acc:.4f}\")\n",
    "    results[name] = test_acc\n",
    "\n",
    "print(\"\\nSummary of test accuracies:\")\n",
    "for name, acc in results.items():\n",
    "    print(f\"{name}: {acc:.4f}\")"
   ]
  },
  {
   "cell_type": "code",
   "execution_count": 37,
   "id": "52c59d05",
   "metadata": {},
   "outputs": [
    {
     "data": {
      "image/png": "[encoded data removed]",
      "text/plain": [
       "<Figure size 700x400 with 1 Axes>"
      ]
     },
     "metadata": {},
     "output_type": "display_data"
    }
   ],
   "source": [
    "# Visualize test accuracies for each feature extractor\n",
    "plt.figure(figsize=(7, 4))\n",
    "plt.bar(results.keys(), results.values(), color=['skyblue', 'salmon', 'limegreen'])\n",
    "plt.ylabel('Test Accuracy')\n",
    "plt.title('Feature Extractor Comparison')\n",
    "plt.ylim(0, 1)\n",
    "plt.show()"
   ]
  }
 ],
 "metadata": {
  "kernelspec": {
   "display_name": "audio_lab_env",
   "language": "python",
   "name": "python3"
  },
  "language_info": {
   "codemirror_mode": {
    "name": "ipython",
    "version": 3
   },
   "file_extension": ".py",
   "mimetype": "text/x-python",
   "name": "python",
   "nbconvert_exporter": "python",
   "pygments_lexer": "ipython3",
   "version": "3.10.19"
  }
 },
 "nbformat": 4,
 "nbformat_minor": 5
}
